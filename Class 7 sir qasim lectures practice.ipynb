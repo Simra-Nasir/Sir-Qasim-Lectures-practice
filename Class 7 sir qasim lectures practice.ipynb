{
 "cells": [
  {
   "cell_type": "markdown",
   "id": "60790d5d-a954-425e-b356-09adcda7d6e5",
   "metadata": {},
   "source": [
    "# List slicing"
   ]
  },
  {
   "cell_type": "raw",
   "id": "edf4f3f9-26f6-4383-920d-b9c6bc6f4010",
   "metadata": {},
   "source": [
    "start = include\n",
    "end = exclude (n-1)\n",
    "step = sequence"
   ]
  },
  {
   "cell_type": "code",
   "execution_count": 1,
   "id": "6f0e73e1-8735-4cfa-a314-9ec176385b4b",
   "metadata": {},
   "outputs": [
    {
     "name": "stdout",
     "output_type": "stream",
     "text": [
      "['sidra', 'bilal']\n"
     ]
    }
   ],
   "source": [
    "names = ['simra', 'sidra', 'bilal', 'arsha']\n",
    "         # -4       -3        -2      -1\n",
    "print(names[-3: -1])"
   ]
  },
  {
   "cell_type": "code",
   "execution_count": 2,
   "id": "b15dda60-57bf-4fab-bee7-707f89d34784",
   "metadata": {},
   "outputs": [
    {
     "name": "stdout",
     "output_type": "stream",
     "text": [
      "['sidra', 'bilal', 'arsha', 10]\n",
      "['sidra', 'bilal', 'arsha', 10]\n"
     ]
    }
   ],
   "source": [
    "names = ['simra', 'sidra', 'bilal', 'arsha', 10, 20, 30, 40]\n",
    "#         -8        -7       -6        -5    -4  -3  -2  -1\n",
    "print(names[-7:-3])\n",
    "print(names[1: 5])"
   ]
  },
  {
   "cell_type": "code",
   "execution_count": 5,
   "id": "3ed2d203-5c61-49ba-8d2f-0268f0807c14",
   "metadata": {},
   "outputs": [
    {
     "name": "stdout",
     "output_type": "stream",
     "text": [
      "['simra', 'arsha']\n"
     ]
    }
   ],
   "source": [
    "names = ['simra', 'sidra', 'bilal', 'arsha', 10, 20, 30, 40]\n",
    "print(names[0:5:3])"
   ]
  },
  {
   "cell_type": "code",
   "execution_count": 6,
   "id": "352acfeb-24cc-47b6-9537-997b54c2bcc1",
   "metadata": {},
   "outputs": [
    {
     "name": "stdout",
     "output_type": "stream",
     "text": [
      "['simra', 'sidra', 'bilal', 'arsha', 10]\n"
     ]
    }
   ],
   "source": [
    "names = ['simra', 'sidra', 'bilal', 'arsha', 10, 20, 30, 40]\n",
    "print(names[-8:-3:1])"
   ]
  },
  {
   "cell_type": "code",
   "execution_count": 7,
   "id": "afdd960c-a329-4d90-8911-b4a15eabbbee",
   "metadata": {},
   "outputs": [
    {
     "name": "stdout",
     "output_type": "stream",
     "text": [
      "[]\n"
     ]
    }
   ],
   "source": [
    "names = ['simra', 'sidra', 'bilal', 'arsha', 10, 20, 30, 40]\n",
    "print(names[-8:-3:-1])"
   ]
  },
  {
   "cell_type": "code",
   "execution_count": 10,
   "id": "77854f98-3785-4677-9424-1895ae6429df",
   "metadata": {},
   "outputs": [
    {
     "name": "stdout",
     "output_type": "stream",
     "text": [
      "[20, 'arsha', 'sidra']\n"
     ]
    }
   ],
   "source": [
    "names = ['simra', 'sidra', 'bilal', 'arsha', 10, 20, 30, 40]\n",
    "print(names[-3:-8:-2])"
   ]
  },
  {
   "cell_type": "raw",
   "id": "f19b19c0-7a1d-4345-8e6e-f7298b173038",
   "metadata": {},
   "source": [
    "Columns cannot follow order in list always, so dictionary arrives to get rid of this"
   ]
  },
  {
   "cell_type": "markdown",
   "id": "e614e23b-3029-4a14-b290-ed4ed8b7d44d",
   "metadata": {},
   "source": [
    "# Tuples"
   ]
  },
  {
   "cell_type": "raw",
   "id": "fc548856-9682-426f-aad6-e491c4a52fe1",
   "metadata": {},
   "source": [
    "They are imutable means we cannot change but lists are mutable -> ()"
   ]
  },
  {
   "cell_type": "code",
   "execution_count": 18,
   "id": "02b35043-b9cf-45c3-a44b-04c9103a29c9",
   "metadata": {},
   "outputs": [
    {
     "name": "stdout",
     "output_type": "stream",
     "text": [
      "['simra', 'apple', 40, 29.8]\n",
      "<class 'list'>\n"
     ]
    }
   ],
   "source": [
    "names = ['simra', 'apple', 40, 29.8]\n",
    "print(names)\n",
    "print(type(names))\n"
   ]
  },
  {
   "cell_type": "code",
   "execution_count": 14,
   "id": "5dfa6e27-df77-4b46-8f5e-854fc58af991",
   "metadata": {},
   "outputs": [
    {
     "name": "stdout",
     "output_type": "stream",
     "text": [
      "['shabnam', 'apple', 40, 29.8]\n"
     ]
    }
   ],
   "source": [
    "names[0] = 'shabnam'\n",
    "print(names)"
   ]
  },
  {
   "cell_type": "raw",
   "id": "424d78b4-568e-4358-8ede-8092b8bce2e9",
   "metadata": {},
   "source": [
    "see the above example showing that lists are mutable"
   ]
  },
  {
   "cell_type": "code",
   "execution_count": 20,
   "id": "f508fffb-f959-4667-9887-cdd6bb9ea3b5",
   "metadata": {},
   "outputs": [
    {
     "name": "stdout",
     "output_type": "stream",
     "text": [
      "('simra', 'arsha', 20, 23.8)\n",
      "<class 'tuple'>\n"
     ]
    }
   ],
   "source": [
    "names1 = ('simra', 'arsha', 20, 23.8 )\n",
    "print(names1)\n",
    "print(type(names1))"
   ]
  },
  {
   "cell_type": "code",
   "execution_count": 16,
   "id": "cd92994f-ad9c-4966-9bb2-6e4a4cfb59c2",
   "metadata": {},
   "outputs": [
    {
     "ename": "TypeError",
     "evalue": "'tuple' object does not support item assignment",
     "output_type": "error",
     "traceback": [
      "\u001b[1;31m---------------------------------------------------------------------------\u001b[0m",
      "\u001b[1;31mTypeError\u001b[0m                                 Traceback (most recent call last)",
      "Cell \u001b[1;32mIn[16], line 1\u001b[0m\n\u001b[1;32m----> 1\u001b[0m names[\u001b[38;5;241m0\u001b[39m] \u001b[38;5;241m=\u001b[39m \u001b[38;5;241m30\u001b[39m\n\u001b[0;32m      2\u001b[0m \u001b[38;5;28mprint\u001b[39m(names)\n",
      "\u001b[1;31mTypeError\u001b[0m: 'tuple' object does not support item assignment"
     ]
    }
   ],
   "source": [
    "names[0] = 30\n",
    "print(names)"
   ]
  },
  {
   "cell_type": "raw",
   "id": "c3246c56-2ded-48ba-a361-e158e599b9fd",
   "metadata": {},
   "source": [
    "see the error above showing that tuples are imutable but tuple can redeclare or reassign"
   ]
  },
  {
   "cell_type": "code",
   "execution_count": 22,
   "id": "192efeb8-bec0-4576-bcc5-148a60fef849",
   "metadata": {},
   "outputs": [
    {
     "data": {
      "text/plain": [
       "['__add__',\n",
       " '__class__',\n",
       " '__class_getitem__',\n",
       " '__contains__',\n",
       " '__delattr__',\n",
       " '__dir__',\n",
       " '__doc__',\n",
       " '__eq__',\n",
       " '__format__',\n",
       " '__ge__',\n",
       " '__getattribute__',\n",
       " '__getitem__',\n",
       " '__getnewargs__',\n",
       " '__getstate__',\n",
       " '__gt__',\n",
       " '__hash__',\n",
       " '__init__',\n",
       " '__init_subclass__',\n",
       " '__iter__',\n",
       " '__le__',\n",
       " '__len__',\n",
       " '__lt__',\n",
       " '__mul__',\n",
       " '__ne__',\n",
       " '__new__',\n",
       " '__reduce__',\n",
       " '__reduce_ex__',\n",
       " '__repr__',\n",
       " '__rmul__',\n",
       " '__setattr__',\n",
       " '__sizeof__',\n",
       " '__str__',\n",
       " '__subclasshook__',\n",
       " 'count',\n",
       " 'index']"
      ]
     },
     "execution_count": 22,
     "metadata": {},
     "output_type": "execute_result"
    }
   ],
   "source": [
    "list(dir(names1))"
   ]
  },
  {
   "cell_type": "markdown",
   "id": "b42f4c6d-f807-4930-90d1-5ee7cd6a8e71",
   "metadata": {},
   "source": [
    "# Set"
   ]
  },
  {
   "cell_type": "raw",
   "id": "cc04eda8-7172-4470-8715-253026cf00aa",
   "metadata": {},
   "source": [
    "to avoid repetition and use {}"
   ]
  },
  {
   "cell_type": "code",
   "execution_count": 23,
   "id": "37f06ffa-0e11-47c5-8c4c-da573d1abf96",
   "metadata": {},
   "outputs": [
    {
     "name": "stdout",
     "output_type": "stream",
     "text": [
      "<class 'set'>\n"
     ]
    }
   ],
   "source": [
    "a = {1, 2, 3, 4, 5}\n",
    "print(type(a))"
   ]
  },
  {
   "cell_type": "code",
   "execution_count": 24,
   "id": "47e53c26-3e1b-4a60-99e7-fafe9bd78f7f",
   "metadata": {},
   "outputs": [
    {
     "data": {
      "text/plain": [
       "['__and__',\n",
       " '__class__',\n",
       " '__class_getitem__',\n",
       " '__contains__',\n",
       " '__delattr__',\n",
       " '__dir__',\n",
       " '__doc__',\n",
       " '__eq__',\n",
       " '__format__',\n",
       " '__ge__',\n",
       " '__getattribute__',\n",
       " '__getstate__',\n",
       " '__gt__',\n",
       " '__hash__',\n",
       " '__iand__',\n",
       " '__init__',\n",
       " '__init_subclass__',\n",
       " '__ior__',\n",
       " '__isub__',\n",
       " '__iter__',\n",
       " '__ixor__',\n",
       " '__le__',\n",
       " '__len__',\n",
       " '__lt__',\n",
       " '__ne__',\n",
       " '__new__',\n",
       " '__or__',\n",
       " '__rand__',\n",
       " '__reduce__',\n",
       " '__reduce_ex__',\n",
       " '__repr__',\n",
       " '__ror__',\n",
       " '__rsub__',\n",
       " '__rxor__',\n",
       " '__setattr__',\n",
       " '__sizeof__',\n",
       " '__str__',\n",
       " '__sub__',\n",
       " '__subclasshook__',\n",
       " '__xor__',\n",
       " 'add',\n",
       " 'clear',\n",
       " 'copy',\n",
       " 'difference',\n",
       " 'difference_update',\n",
       " 'discard',\n",
       " 'intersection',\n",
       " 'intersection_update',\n",
       " 'isdisjoint',\n",
       " 'issubset',\n",
       " 'issuperset',\n",
       " 'pop',\n",
       " 'remove',\n",
       " 'symmetric_difference',\n",
       " 'symmetric_difference_update',\n",
       " 'union',\n",
       " 'update']"
      ]
     },
     "execution_count": 24,
     "metadata": {},
     "output_type": "execute_result"
    }
   ],
   "source": [
    "list(dir(a))"
   ]
  },
  {
   "cell_type": "code",
   "execution_count": 25,
   "id": "ec41286b-9b46-4782-ab6f-6c8c3851142c",
   "metadata": {},
   "outputs": [
    {
     "name": "stdout",
     "output_type": "stream",
     "text": [
      "{1, 2, 5, 6}\n"
     ]
    }
   ],
   "source": [
    "a = {1, 2, 3, 4, 5, 6, 7}\n",
    "b = {3, 4, 7, 8, 9, 10}\n",
    "print(a.difference(b))"
   ]
  },
  {
   "cell_type": "code",
   "execution_count": 26,
   "id": "62de2db7-25f6-47de-89b4-da7dccae87bd",
   "metadata": {},
   "outputs": [
    {
     "name": "stdout",
     "output_type": "stream",
     "text": [
      "{8, 9, 10}\n"
     ]
    }
   ],
   "source": [
    "print(b.difference(a))"
   ]
  },
  {
   "cell_type": "code",
   "execution_count": 27,
   "id": "1c8f156b-a19d-4a43-9678-f42e57820dec",
   "metadata": {},
   "outputs": [
    {
     "name": "stdout",
     "output_type": "stream",
     "text": [
      "{3, 4, 7}\n"
     ]
    }
   ],
   "source": [
    "print(a.intersection(b))"
   ]
  },
  {
   "cell_type": "code",
   "execution_count": 28,
   "id": "020db133-1f01-4360-aef9-fe10cb49d4e0",
   "metadata": {},
   "outputs": [
    {
     "name": "stdout",
     "output_type": "stream",
     "text": [
      "{3, 4, 7}\n"
     ]
    }
   ],
   "source": [
    "print(b.intersection(a))"
   ]
  },
  {
   "cell_type": "markdown",
   "id": "65b61d0c-016e-4281-a642-e498ae81a1a6",
   "metadata": {},
   "source": [
    "# Dictionary"
   ]
  },
  {
   "cell_type": "raw",
   "id": "e4429aa8-2375-4d4b-ad04-9cddec033cc6",
   "metadata": {},
   "source": [
    "replace index with key use {key: value}"
   ]
  },
  {
   "cell_type": "code",
   "execution_count": 32,
   "id": "9329eac7-25af-48ed-943a-1b275271660c",
   "metadata": {},
   "outputs": [
    {
     "name": "stdout",
     "output_type": "stream",
     "text": [
      "{'name': 'simra', 'class': 'PDG'}\n"
     ]
    }
   ],
   "source": [
    "data1 = {\"name\" : \"simra\", \"class\" : \"PDG\"}\n",
    "print(data1)"
   ]
  },
  {
   "cell_type": "code",
   "execution_count": 34,
   "id": "33dee733-3f1f-40e0-9322-4c695da94fde",
   "metadata": {},
   "outputs": [
    {
     "name": "stdout",
     "output_type": "stream",
     "text": [
      "PDG\n",
      "Zoology\n"
     ]
    }
   ],
   "source": [
    "data1 = {\"name\" : \"simra\", \"class\" : \"PDG\"}\n",
    "data2 = {\"name\" : \"sidra\", \"class\" : \"Zoology\"}\n",
    "print(data1[\"class\"])\n",
    "print(data2[\"class\"])"
   ]
  },
  {
   "cell_type": "markdown",
   "id": "3135e805-33e2-4f09-bd19-9aee1a47cf62",
   "metadata": {},
   "source": [
    "## Nested dictionary"
   ]
  },
  {
   "cell_type": "code",
   "execution_count": 1,
   "id": "b963f36f-5027-49d5-9b47-437e0bec440f",
   "metadata": {},
   "outputs": [
    {
     "name": "stdout",
     "output_type": "stream",
     "text": [
      "{'father': {'name': 'M Arsalan', 'age': 23, 'education': 'MS'}, 'Mother': {'name': 'Asma', 'age': 35, 'education': 'BS', 'skills': ['poetry', 'painting']}}\n"
     ]
    }
   ],
   "source": [
    "family = {'father' : {'name' : 'M Arsalan', 'age' : 23, 'education' : 'MS'}, 'Mother' : {'name' : 'Asma' , 'age' : 35, 'education' : 'BS', 'skills' : ['poetry' , 'painting']}}\n",
    "print(family)"
   ]
  },
  {
   "cell_type": "code",
   "execution_count": 3,
   "id": "413e35e9-46fa-436b-887d-87cb3e3f6380",
   "metadata": {},
   "outputs": [
    {
     "name": "stdout",
     "output_type": "stream",
     "text": [
      "{}\n"
     ]
    }
   ],
   "source": [
    "data1 = {\"name\" : \"simra\", \"class\" : \"PDG\"}\n",
    "data1.clear()\n",
    "print(data1)"
   ]
  },
  {
   "cell_type": "code",
   "execution_count": 4,
   "id": "eb4d09ad-7888-4968-a157-a1038a553aee",
   "metadata": {},
   "outputs": [
    {
     "name": "stdout",
     "output_type": "stream",
     "text": [
      "{'name': 'sidra', 'class': 'Zoology'}\n"
     ]
    }
   ],
   "source": [
    "data2 = {\"name\" : \"sidra\", \"class\" : \"Zoology\"}  #shallow copy\n",
    "data1 = data2.copy()\n",
    "print(data1)"
   ]
  },
  {
   "cell_type": "code",
   "execution_count": 5,
   "id": "c35a25e3-bd49-4e02-8aca-c659e697e6ed",
   "metadata": {},
   "outputs": [
    {
     "data": {
      "text/plain": [
       "'sidra'"
      ]
     },
     "execution_count": 5,
     "metadata": {},
     "output_type": "execute_result"
    }
   ],
   "source": [
    "data1['name']"
   ]
  },
  {
   "cell_type": "code",
   "execution_count": 6,
   "id": "d72f6755-f1ad-4cdc-af85-4f16cf3b082b",
   "metadata": {},
   "outputs": [
    {
     "name": "stdout",
     "output_type": "stream",
     "text": [
      "{'name': 'sidra', 'class': 'Zoology'}\n",
      "{'name': 'sidra', 'class': 'Zoology'}\n"
     ]
    }
   ],
   "source": [
    "print(data1)     \n",
    "print(data2)"
   ]
  },
  {
   "cell_type": "code",
   "execution_count": 7,
   "id": "441ed361-a480-4335-a4d1-772bdd1f5f62",
   "metadata": {},
   "outputs": [
    {
     "data": {
      "text/plain": [
       "2966014503680"
      ]
     },
     "execution_count": 7,
     "metadata": {},
     "output_type": "execute_result"
    }
   ],
   "source": [
    "a = {'name' : 'simra'}   #deep copy\n",
    "b = {'name' : 'simra'}\n",
    "id(a)\n",
    "id(b)"
   ]
  },
  {
   "cell_type": "code",
   "execution_count": 10,
   "id": "41293eaa-388c-4df3-ac59-c0ce2f9e8410",
   "metadata": {},
   "outputs": [
    {
     "data": {
      "text/plain": [
       "['__class__',\n",
       " '__class_getitem__',\n",
       " '__contains__',\n",
       " '__delattr__',\n",
       " '__delitem__',\n",
       " '__dir__',\n",
       " '__doc__',\n",
       " '__eq__',\n",
       " '__format__',\n",
       " '__ge__',\n",
       " '__getattribute__',\n",
       " '__getitem__',\n",
       " '__getstate__',\n",
       " '__gt__',\n",
       " '__hash__',\n",
       " '__init__',\n",
       " '__init_subclass__',\n",
       " '__ior__',\n",
       " '__iter__',\n",
       " '__le__',\n",
       " '__len__',\n",
       " '__lt__',\n",
       " '__ne__',\n",
       " '__new__',\n",
       " '__or__',\n",
       " '__reduce__',\n",
       " '__reduce_ex__',\n",
       " '__repr__',\n",
       " '__reversed__',\n",
       " '__ror__',\n",
       " '__setattr__',\n",
       " '__setitem__',\n",
       " '__sizeof__',\n",
       " '__str__',\n",
       " '__subclasshook__',\n",
       " 'clear',\n",
       " 'copy',\n",
       " 'fromkeys',\n",
       " 'get',\n",
       " 'items',\n",
       " 'keys',\n",
       " 'pop',\n",
       " 'popitem',\n",
       " 'setdefault',\n",
       " 'update',\n",
       " 'values']"
      ]
     },
     "execution_count": 10,
     "metadata": {},
     "output_type": "execute_result"
    }
   ],
   "source": [
    "dir(data1)"
   ]
  },
  {
   "cell_type": "code",
   "execution_count": 11,
   "id": "764472ae-6b72-4660-b3c6-c5ee6be51fdf",
   "metadata": {},
   "outputs": [
    {
     "data": {
      "text/plain": [
       "dict_keys(['name', 'class'])"
      ]
     },
     "execution_count": 11,
     "metadata": {},
     "output_type": "execute_result"
    }
   ],
   "source": [
    "data1.keys()"
   ]
  },
  {
   "cell_type": "code",
   "execution_count": null,
   "id": "f7cf2f9f-4953-4bb7-b51c-b120f95223b8",
   "metadata": {},
   "outputs": [],
   "source": []
  }
 ],
 "metadata": {
  "kernelspec": {
   "display_name": "Python 3 (ipykernel)",
   "language": "python",
   "name": "python3"
  },
  "language_info": {
   "codemirror_mode": {
    "name": "ipython",
    "version": 3
   },
   "file_extension": ".py",
   "mimetype": "text/x-python",
   "name": "python",
   "nbconvert_exporter": "python",
   "pygments_lexer": "ipython3",
   "version": "3.12.7"
  }
 },
 "nbformat": 4,
 "nbformat_minor": 5
}
