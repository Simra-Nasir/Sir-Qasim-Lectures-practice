{
  "nbformat": 4,
  "nbformat_minor": 0,
  "metadata": {
    "colab": {
      "provenance": []
    },
    "kernelspec": {
      "name": "python3",
      "display_name": "Python 3"
    },
    "language_info": {
      "name": "python"
    }
  },
  "cells": [
    {
      "cell_type": "markdown",
      "source": [
        "# F-String"
      ],
      "metadata": {
        "id": "E_tjvwt04RtJ"
      }
    },
    {
      "cell_type": "markdown",
      "source": [
        "## Text Concatination\n",
        "* Join text with varaible and other type of objects.\n",
        "1. '+'\n",
        "* Type casting required\n",
        "2. '''.format(var1, var2)\n",
        "* No need type casting.\n",
        "* Required position of variable.\n",
        "3. %\n",
        "* Require each data type symbols.\n",
        "4. f\"{var1} any text {var2}\"\n",
        "* no need of type casting and position.\n"
      ],
      "metadata": {
        "id": "oH9J6XmF4frE"
      }
    },
    {
      "cell_type": "markdown",
      "source": [
        "# Static vs Dynamic\n",
        "1. Static\n",
        "* Always same\n",
        "2. Dynamic\n",
        "* Change"
      ],
      "metadata": {
        "id": "mU-XI2ow5vpA"
      }
    },
    {
      "cell_type": "markdown",
      "source": [
        "# Variable\n",
        "* Dynamic\n",
        "1. It will receive data from other sources like (database, excel)\n",
        "2. Store dynamic value\n",
        "3. It has own data types\n",
        "* String, int, float, boolean, list, tuple, dictionary.\n",
        "\n",
        "\n"
      ],
      "metadata": {
        "id": "uSUryw555-Xi"
      }
    },
    {
      "cell_type": "code",
      "source": [
        "1 + 1\n",
        "print(1+1)      # int\n",
        "print (\"1\" + \"1\")     # String (Text concatination)"
      ],
      "metadata": {
        "colab": {
          "base_uri": "https://localhost:8080/"
        },
        "id": "XKtiVr8h6But",
        "outputId": "f05a8473-dd3a-4005-9636-38ba8907ab2c"
      },
      "execution_count": 1,
      "outputs": [
        {
          "output_type": "stream",
          "name": "stdout",
          "text": [
            "2\n",
            "11\n"
          ]
        }
      ]
    },
    {
      "cell_type": "markdown",
      "source": [
        "# How to create a variable\n",
        "' Variable_name = variable_value '\n",
        "1. Variable_name\n",
        "* write meaning full name excluding space and any special characters\n",
        "2. ' = ' assign operator\n",
        "3. = variable value"
      ],
      "metadata": {
        "id": "OA51y56u686f"
      }
    },
    {
      "cell_type": "markdown",
      "source": [
        "## Example\n",
        "' Student_name = \"Simra Nasir\" '\n",
        "1. Variable_name (Student_name)\n",
        "2. Assign operator (=)\n",
        "3. variable_value (\"Simra Nasir\")"
      ],
      "metadata": {
        "id": "4FIrV8SA7kNN"
      }
    },
    {
      "cell_type": "code",
      "source": [
        "name = \"Simra Nasir\"    # case sensitive\n",
        "print(name)\n",
        "Name = \"Simra Nasir\"\n",
        "print(Name)"
      ],
      "metadata": {
        "colab": {
          "base_uri": "https://localhost:8080/"
        },
        "id": "L22qDcpU745-",
        "outputId": "79e1594a-cffe-4285-84bb-ae031110a080"
      },
      "execution_count": 3,
      "outputs": [
        {
          "output_type": "stream",
          "name": "stdout",
          "text": [
            "Simra Nasir\n",
            "Simra Nasir\n"
          ]
        }
      ]
    },
    {
      "cell_type": "markdown",
      "source": [
        "## How to create string\n",
        "1. ' your string here '\n",
        "2. \" your string here\"\n",
        "3. '''\n",
        "your multi line string here\n",
        "'''\n",
        "4. \"\"\" your multi line string here \"\"\""
      ],
      "metadata": {
        "id": "TSaNjUcH8Zg9"
      }
    },
    {
      "cell_type": "code",
      "source": [
        "data = \"Pakistan zindabad\"\n",
        "print(data)\n",
        "data = 'Pakistan zindabad'\n",
        "print(data)\n",
        "data = '''\n",
        "Pakistan zindabad\n",
        "we love our country\n",
        "'''\n",
        "print(data)\n",
        "data = \"\"\"\n",
        "Pakistan zindabad\n",
        "we love our country\n",
        "\"\"\"\n",
        "print(data)\n",
        "print(type(data))"
      ],
      "metadata": {
        "colab": {
          "base_uri": "https://localhost:8080/"
        },
        "id": "caSCxyJE8D4j",
        "outputId": "3f78fc23-7a16-4c5c-fff5-65651c77e8ce"
      },
      "execution_count": 5,
      "outputs": [
        {
          "output_type": "stream",
          "name": "stdout",
          "text": [
            "Pakistan zindabad\n",
            "Pakistan zindabad\n",
            "\n",
            "Pakistan zindabad\n",
            "we love our country\n",
            "\n",
            "\n",
            "Pakistan zindabad\n",
            "we love our country\n",
            "\n",
            "<class 'str'>\n"
          ]
        }
      ]
    },
    {
      "cell_type": "code",
      "source": [
        "data = ''' Pakistan zindabad\n",
        "Hello world\n",
        "we love our country '''\n",
        "print(type(data))\n",
        "print(data)"
      ],
      "metadata": {
        "colab": {
          "base_uri": "https://localhost:8080/"
        },
        "id": "186ty9qJ9FvI",
        "outputId": "5df95c1f-b087-4980-ac56-c6960cf9aab8"
      },
      "execution_count": 6,
      "outputs": [
        {
          "output_type": "stream",
          "name": "stdout",
          "text": [
            "<class 'str'>\n",
            " Pakistan zindabad\n",
            "Hello world\n",
            "we love our country \n"
          ]
        }
      ]
    },
    {
      "cell_type": "code",
      "source": [
        "data = \"\"\" Pakistan zindabad\n",
        "Hello world\n",
        "we love our country \"\"\"\n",
        "print(data)\n",
        "print(type(data))"
      ],
      "metadata": {
        "colab": {
          "base_uri": "https://localhost:8080/"
        },
        "id": "3-eSSBSU9T-b",
        "outputId": "d902f5b4-03d5-4aa0-df9c-b51d231848db"
      },
      "execution_count": 7,
      "outputs": [
        {
          "output_type": "stream",
          "name": "stdout",
          "text": [
            " Pakistan zindabad\n",
            "Hello world\n",
            "we love our country \n",
            "<class 'str'>\n"
          ]
        }
      ]
    },
    {
      "cell_type": "markdown",
      "source": [
        "### Old way to do samething"
      ],
      "metadata": {
        "id": "g0o_Ssol9e63"
      }
    },
    {
      "cell_type": "code",
      "source": [
        "data = \"pakistan zindabad \\n Hello world \\n we love our country\"\n",
        "print(type(data))\n",
        "print(data)"
      ],
      "metadata": {
        "colab": {
          "base_uri": "https://localhost:8080/"
        },
        "id": "r23IqPhz9hyg",
        "outputId": "020fac1e-5a5a-4a9f-81dc-6669cb533657"
      },
      "execution_count": 8,
      "outputs": [
        {
          "output_type": "stream",
          "name": "stdout",
          "text": [
            "<class 'str'>\n",
            "pakistan zindabad \n",
            " Hello world \n",
            " we love our country\n"
          ]
        }
      ]
    },
    {
      "cell_type": "markdown",
      "source": [
        "#### Solve some problems"
      ],
      "metadata": {
        "id": "ZgUHSlaC9w0Z"
      }
    },
    {
      "cell_type": "code",
      "source": [
        "data = \"my name is simra nasir and father's name is muhammad nasir\"\n",
        "print(data)"
      ],
      "metadata": {
        "colab": {
          "base_uri": "https://localhost:8080/"
        },
        "id": "PwyIwVlL9z0T",
        "outputId": "fcfcc41b-daaa-4e2a-dbfb-74018a36fd64"
      },
      "execution_count": 10,
      "outputs": [
        {
          "output_type": "stream",
          "name": "stdout",
          "text": [
            "my name is simra nasir and father's name is muhammad nasir\n"
          ]
        }
      ]
    },
    {
      "cell_type": "code",
      "source": [
        "data = \"my name is \\\"simra nasir\\\" and father's name is muhammad nasir\"\n",
        "print(data)"
      ],
      "metadata": {
        "colab": {
          "base_uri": "https://localhost:8080/"
        },
        "id": "WIhZtbKB-FW0",
        "outputId": "017272e6-9249-4f7b-c009-4564b038607d"
      },
      "execution_count": 12,
      "outputs": [
        {
          "output_type": "stream",
          "name": "stdout",
          "text": [
            "my name is \"simra nasir\" and father's name is muhammad nasir\n"
          ]
        }
      ]
    },
    {
      "cell_type": "code",
      "source": [
        "data = '''my name is \"simra nasir\" and father's name is muhammad nasir'''\n",
        "print(data)"
      ],
      "metadata": {
        "colab": {
          "base_uri": "https://localhost:8080/"
        },
        "id": "y7ieCZex-VXi",
        "outputId": "81e13c14-9c57-4c5c-a8e9-fa990dd5f9fd"
      },
      "execution_count": 13,
      "outputs": [
        {
          "output_type": "stream",
          "name": "stdout",
          "text": [
            "my name is \"simra nasir\" and father's name is muhammad nasir\n"
          ]
        }
      ]
    },
    {
      "cell_type": "markdown",
      "source": [
        "# Text concatination\n",
        "* Join text with text and other data types"
      ],
      "metadata": {
        "id": "ch0E4Wc2-c6q"
      }
    },
    {
      "cell_type": "code",
      "source": [
        "name = \"Simra Nasir\"\n",
        "Father_name = \"Muhammad Nasir\"\n",
        "print(name)\n",
        "print(Father_name)"
      ],
      "metadata": {
        "colab": {
          "base_uri": "https://localhost:8080/"
        },
        "id": "acfeqC6e-ekW",
        "outputId": "098030a4-f8e2-4b48-b20a-f0abe7ea67a6"
      },
      "execution_count": 14,
      "outputs": [
        {
          "output_type": "stream",
          "name": "stdout",
          "text": [
            "Simra Nasir\n",
            "Muhammad Nasir\n"
          ]
        }
      ]
    },
    {
      "cell_type": "code",
      "source": [
        "name = \"Simra Nasir\"\n",
        "Father_name = \"Muhammad Nasir\"\n",
        "message = \"Hello, \" + name  +  \" your father name is \" + Father_name\n",
        "print(message)"
      ],
      "metadata": {
        "colab": {
          "base_uri": "https://localhost:8080/"
        },
        "id": "ynOJGhWR-1k_",
        "outputId": "93b5a06d-a4ab-4c89-b16a-08567f53a61f"
      },
      "execution_count": 19,
      "outputs": [
        {
          "output_type": "stream",
          "name": "stdout",
          "text": [
            "Hello, Simra Nasir your father name is Muhammad Nasir\n"
          ]
        }
      ]
    },
    {
      "cell_type": "markdown",
      "source": [
        "# .format()\n",
        "* at the end of the string"
      ],
      "metadata": {
        "id": "GprBLnr2_hCX"
      }
    },
    {
      "cell_type": "code",
      "source": [
        "name = \"Simra Nasir\"\n",
        "Father_name = \"Muhammad Nasir\"\n",
        "message = \"Hello, {} your father name is {}\".format(name, Father_name)   # {} is a place holder, first curly bracket ka index zero hai and so on\n",
        "print(message)"
      ],
      "metadata": {
        "colab": {
          "base_uri": "https://localhost:8080/"
        },
        "id": "H-CPxMkZ_olo",
        "outputId": "e08c410d-4336-444e-d738-dd18979a4d4e"
      },
      "execution_count": 20,
      "outputs": [
        {
          "output_type": "stream",
          "name": "stdout",
          "text": [
            "Hello, Simra Nasir your father name is Muhammad Nasir\n"
          ]
        }
      ]
    },
    {
      "cell_type": "code",
      "source": [
        "Name = \"Asma Nasir\"\n",
        "Wife_of = \"Muhammad Nasir Ahmed Khan\"\n",
        "Daughters = 3\n",
        "Son = 1\n",
        "message = \"Hello,  {} wife of {} and has {} daughters and {} son.\".format(Name, Wife_of, Daughters, Son)\n",
        "print(message)"
      ],
      "metadata": {
        "colab": {
          "base_uri": "https://localhost:8080/"
        },
        "id": "K1lQejKbAD00",
        "outputId": "d5d7713a-7c9b-47d0-9e81-ebbb6a44d5d5"
      },
      "execution_count": 23,
      "outputs": [
        {
          "output_type": "stream",
          "name": "stdout",
          "text": [
            "Hello,  Asma Nasir wife of Muhammad Nasir Ahmed Khan and has 3 daughters and 1 son.\n"
          ]
        }
      ]
    },
    {
      "cell_type": "code",
      "source": [
        "Student_name = \"Zain Khan\"\n",
        "Class = 12\n",
        "School_name = \"Beacon house\"\n",
        "City = \"Karachi\"\n",
        "message = \"{} is a student of class {} belongs to {} and lives in {}.\".format(Student_name, Class, School_name, City)\n",
        "print(message)"
      ],
      "metadata": {
        "colab": {
          "base_uri": "https://localhost:8080/"
        },
        "id": "v549_LLyAwEU",
        "outputId": "ea1085e8-539b-4229-a231-0afda6ca8669"
      },
      "execution_count": 26,
      "outputs": [
        {
          "output_type": "stream",
          "name": "stdout",
          "text": [
            "Zain Khan is a student of class 12 belongs to Beacon house and lives in Karachi.\n"
          ]
        }
      ]
    },
    {
      "cell_type": "markdown",
      "source": [
        "# 3. %\n",
        "* place at the end of string"
      ],
      "metadata": {
        "id": "MS5l_MwIBkMv"
      }
    },
    {
      "cell_type": "code",
      "source": [
        "name = \"Simra Nasir\"\n",
        "Father_name = \"Muhammad Nasir\"\n",
        "message = \"Hello, %s your father name is %s\" % (name, Father_name)\n",
        "print(message)"
      ],
      "metadata": {
        "colab": {
          "base_uri": "https://localhost:8080/"
        },
        "id": "iGVis4yCBoFD",
        "outputId": "77e354b6-7ee1-494f-d719-d17c200c029b"
      },
      "execution_count": 27,
      "outputs": [
        {
          "output_type": "stream",
          "name": "stdout",
          "text": [
            "Hello, Simra Nasir your father name is Muhammad Nasir\n"
          ]
        }
      ]
    },
    {
      "cell_type": "markdown",
      "source": [
        "# 4. F-string\n",
        "* place f before starting boundary"
      ],
      "metadata": {
        "id": "92go-qboB8Ia"
      }
    },
    {
      "cell_type": "code",
      "source": [
        "name = \"Simra Nasir\"\n",
        "Father_name = \"Muhammad Nasir\"\n",
        "message = f\"\"\"NED Student Card\n",
        "Name: {name}\n",
        "Father: {Father_name}\n",
        "\"\"\"\n",
        "print(message)"
      ],
      "metadata": {
        "colab": {
          "base_uri": "https://localhost:8080/"
        },
        "id": "MDXA10WuCBpZ",
        "outputId": "8ec5b6dd-aa9c-49ae-f591-3694a08248ca"
      },
      "execution_count": 29,
      "outputs": [
        {
          "output_type": "stream",
          "name": "stdout",
          "text": [
            "NED Student Card\n",
            "Name: Simra Nasir\n",
            "Father: Muhammad Nasir\n",
            "\n"
          ]
        }
      ]
    }
  ]
}